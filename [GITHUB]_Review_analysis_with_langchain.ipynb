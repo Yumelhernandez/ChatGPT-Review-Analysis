{
  "nbformat": 4,
  "nbformat_minor": 0,
  "metadata": {
    "colab": {
      "provenance": []
    },
    "kernelspec": {
      "name": "python3",
      "display_name": "Python 3"
    },
    "language_info": {
      "name": "python"
    }
  },
  "cells": [
    {
      "cell_type": "code",
      "execution_count": null,
      "metadata": {
        "id": "7NK-CTqHBZ4O"
      },
      "outputs": [],
      "source": [
        "pip install schedule"
      ]
    },
    {
      "cell_type": "code",
      "source": [
        "pip install openai"
      ],
      "metadata": {
        "id": "HYIm1z6XYvaK"
      },
      "execution_count": null,
      "outputs": []
    },
    {
      "cell_type": "code",
      "source": [
        "pip install langchain"
      ],
      "metadata": {
        "id": "ZU29fvXeYxMx"
      },
      "execution_count": null,
      "outputs": []
    },
    {
      "cell_type": "code",
      "source": [
        "pip install tiktoken"
      ],
      "metadata": {
        "id": "Lfc5506hY0oS"
      },
      "execution_count": null,
      "outputs": []
    },
    {
      "cell_type": "code",
      "source": [
        "from langchain import OpenAI, PromptTemplate, LLMChain\n",
        "from langchain.text_splitter import CharacterTextSplitter\n",
        "from langchain.chains.mapreduce import MapReduceChain\n",
        "from langchain.prompts import PromptTemplate\n",
        "from langchain.chains.summarize import load_summarize_chain\n",
        "from langchain.document_loaders import TextLoader\n",
        "from langchain.text_splitter import RecursiveCharacterTextSplitter\n",
        "from langchain.llms import OpenAI\n",
        "from langchain import text_splitter \n",
        "from langchain.chat_models import ChatOpenAI\n",
        "from langchain import PromptTemplate\n",
        "from langchain.docstore.document import Document\n",
        "\n",
        "\n",
        "#Instructions as to how chatgpt is supposed to do with the reviews (the type of analys). Use langchain to piece together large text given there is a token limit one can input on chatgpt\n",
        "\n",
        "\n",
        "def chat_gpt_review_analysis(data):\n",
        "\n",
        "  api_key = \"API KEY\"\n",
        "  llm = ChatOpenAI(openai_api_key=api_key, model_name=\"gpt-3.5-turbo\") \n",
        "  doc = Document(page_content=data)\n",
        "\n",
        "  # Get your splitter ready\n",
        "  text_splitter = RecursiveCharacterTextSplitter(chunk_size=600, chunk_overlap=50)\n",
        "  texts = text_splitter.split_documents([doc])\n",
        "\n",
        "  prompt_template = \"\"\"\n",
        "\n",
        "  You are an assistant that provides review insights for small business owners trying to launch new products in new spaces or improve their existing products. Each section should have detailed bullet points with easy to understand explanations. Be very specific, small business owners will make million dollar decisions based on the analysis you provide. Accurate information, that is specific and easy to understand is crucial. The analysis should have 5 sections as shown below:\n",
        "  Section 1 is named \"Pros.\" In bullet points, you will explain the pros of the product, why people like the product. Answer should be in bullet points. ['Pro Keyword']: The reason why people like the product.Also provide a % number out of 100% next to each answer which should be a keyword. If you add all the % on this section, you can not exceed 100%, the same applies to other sections. Example ['Size'] - 85% - The wagon fits anywhere such as the trunk of my small mini cooper. This means that 85% of positive commentswere about the wagon size being good becuase it could fit anywhere.\n",
        "  Section 2 is named \"Cons.\" In bullet points, you will explain the cons of the product, why people do not like the rpoduct. Answer should be in bullet points: ['Con Keyword']: The reason why people do not like the product.Also provide a % number out of 100% next to each answer which should be a keyword. Example ['Wheels'] - 20% - Made of plastic, is loud on pavement, difficult to replace, leaves a mark on my hardwood floors. This means that 20% of the negative comments was about the wheel being out of plastic.\n",
        "  Section 3 is named \"Improvements.\" In bullet points, you will explain the user painpoints of the product, and ways to fix those paint points. In other words, how to make the product better. Answer should be in bullet points: ['Product Improvement Keyword'] -  ways to improve the product. Example, ['Weight'] - It's too heavy for the average person,  consider using synthetic fibers instead of steel.\n",
        "  Section 4 is named \"Where.\" In bullet points, you will explain the places in which customers use this product. Some examples could be the fridge, the toilet, the bathtub, the front porch, the bed, the dinning table, etc. Answer should be in one word keyword\" ['Where Keyword']. Also provide a % number out of 100% next to each answer which should be a keyword. For example: ['Car'] - 70%, this means that 70% of people use it in their cars, ['Bed'] - 30%, this means that 30% of people use it in their bed. It must be relevant to the reviews, no coming up with new things, simply provide analytics. Be specific.\n",
        "  Section 5 is named \"When.\" In bullet points, you will explain when do customers use this product. Examples include, daytime, nighttime, etc. Also provide a % number out of 100% next to each answer which should be a keyword. For example: ['daytime'] - 60%, this means that 60% of people use it during the day, ['nighttime'] - 40%, this means that 40% of people use it at nightime. It must be relevant to the reviews, no coming up with new things, simply provide analytics. Be specific.\n",
        "\n",
        "  The reviews to do the analysis on are as follows:\n",
        "\n",
        "  {text}\n",
        "  \"\"\"\n",
        "\n",
        "\n",
        "  PROMPT = PromptTemplate(template=prompt_template, input_variables=[\"text\"])\n",
        "  chain = load_summarize_chain(llm, chain_type=\"map_reduce\", map_prompt=PROMPT, combine_prompt=PROMPT)\n",
        "\n",
        "  review = chain.run(texts)\n",
        "  print(review)\n",
        "\n",
        "  return review"
      ],
      "metadata": {
        "id": "2Q41oZ-HZAhe"
      },
      "execution_count": null,
      "outputs": []
    },
    {
      "cell_type": "code",
      "source": [
        "import requests\n",
        "import json\n",
        "\n",
        "# function to scrape reviews from the products detail page on walmart\n",
        "\n",
        "def scrape_data(product_id):\n",
        "\n",
        "  data = []\n",
        "  page = 1\n",
        "  params = {\n",
        "    'api_key': 'API KEY',\n",
        "    'type': 'reviews',\n",
        "    'item_id': f'{product_id}',\n",
        "    'page': f'{page}'\n",
        "    #'sort_by': 'newest_to_oldest'\n",
        "  }\n",
        "\n",
        "  # make the http GET request to BlueCart API\n",
        "  original_api_result = requests.get('https://api.bluecartapi.com/request', params)\n",
        "  how_many_pages_of_reviews = original_api_result.json()['pagination']['total_pages']\n",
        "  \n",
        "  # print the JSON response from BlueCart API\n",
        "  data.append(json.dumps(original_api_result.json()['reviews']))\n",
        "  print(json.dumps(original_api_result.json()))\n",
        "\n",
        "  for i in range(2, 5):  #replace this with how_many_pages_of_reviews\n",
        "    page = i\n",
        "    params = {\n",
        "    'api_key': 'API KEY',\n",
        "    'type': 'reviews',\n",
        "    'item_id': f'{product_id}',\n",
        "    'page': f'{page}'\n",
        "    #'sort_by': 'newest_to_oldest'\n",
        "    }\n",
        "    paginated_api_result = requests.get('https://api.bluecartapi.com/request', params)\n",
        "    data.append(json.dumps(paginated_api_result.json()['reviews']))\n",
        "    print(json.dumps(paginated_api_result.json()))\n",
        "  \n",
        "  return data\n"
      ],
      "metadata": {
        "id": "ax1jNoR2JX_E"
      },
      "execution_count": null,
      "outputs": []
    },
    {
      "cell_type": "code",
      "source": [
        "#Firebase set up\n",
        "\n",
        "import firebase_admin\n",
        "from firebase_admin import credentials\n",
        "from firebase_admin import firestore\n",
        "\n",
        "#firebase_admin.delete_app(firebase_admin.get_app())\n",
        "\n",
        "cred = credentials.Certificate('/content/firestore email-automation-pt2.json')\n",
        "app = firebase_admin.initialize_app(cred)\n",
        "db = firestore.client()\n",
        "\n",
        "last_doc = None\n"
      ],
      "metadata": {
        "id": "9cG-lrAwBfXJ"
      },
      "execution_count": null,
      "outputs": []
    },
    {
      "cell_type": "code",
      "source": [
        "import schedule\n",
        "import time \n",
        "\n",
        "\n",
        "# every 10 minute retrieve all product ids from users that have not been analyzed. Analyze the oldest one, then wait 10 minutes, analyze the oldest one again, etc\n",
        "\n",
        "\n",
        "def process_documents():\n",
        "    #retrieve product ids from firebase\n",
        "    docs_ref = db.collection('review_analysis')\n",
        "    query = docs_ref.where('review_analysis_pulse_check', '==', 'not_done').order_by('created_time')\n",
        "\n",
        "    docs = query.get()\n",
        "    print(docs)\n",
        "    \n",
        "    \n",
        "    #Run chatGPT analysis\n",
        "    product_id_one = docs[0].to_dict()['productID1']\n",
        "    print(product_id_one)\n",
        "    product_id_one_reviews = scrape_data(product_id_one)\n",
        "    print(product_id_one_reviews)\n",
        "    review_analysis_product_one = chat_gpt_review_analysis(str(product_id_one_reviews))\n",
        "    print(review_analysis_product_one)\n",
        "\n",
        "    product_id_two = docs[0].to_dict()['productID2']\n",
        "    product_id_two_reviews = scrape_data(product_id_two)\n",
        "    review_analysis_product_two = chat_gpt_review_analysis(product_id_two_reviews)\n",
        "\n",
        "    product_id_three = docs[0].to_dict()['productID3']\n",
        "    product_id_three_reviews = scrape_data(product_id_three)\n",
        "    review_analysis_product_three = chat_gpt_review_analysis(product_id_three_reviews)\n",
        "      \n",
        "while True:\n",
        "    process_documents()\n",
        "\n",
        "    # Wait for some time before checking again\n",
        "    time.sleep(10)\n"
      ],
      "metadata": {
        "id": "QNCXYFjnBgzm"
      },
      "execution_count": null,
      "outputs": []
    }
  ]
}